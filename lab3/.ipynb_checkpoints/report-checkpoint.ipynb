{
 "cells": [
  {
   "cell_type": "markdown",
   "id": "applicable-mozambique",
   "metadata": {},
   "source": [
    "# FCS Lab 3 - MD5, Rainbow Tables"
   ]
  },
  {
   "cell_type": "markdown",
   "id": "beneficial-constitutional",
   "metadata": {},
   "source": [
    "* Name(s): Tan Li Yuan\n",
    "* Student ID(s): 1004326"
   ]
  },
  {
   "cell_type": "markdown",
   "id": "identified-wagon",
   "metadata": {},
   "source": [
    "## Part I: Hashing Using MD5\n",
    "\n",
    "* How does the length of the hash correspond to the input string?"
   ]
  },
  {
   "cell_type": "markdown",
   "id": "international-combining",
   "metadata": {},
   "source": [
    "The length of the hash remains the same regardless of the length of the input string"
   ]
  },
  {
   "cell_type": "markdown",
   "id": "million-aberdeen",
   "metadata": {},
   "source": [
    "* Are there any visible correlations between the hash and the input string?"
   ]
  },
  {
   "cell_type": "markdown",
   "id": "395d2341",
   "metadata": {},
   "source": [
    "The are no visible correlations."
   ]
  },
  {
   "cell_type": "markdown",
   "id": "protective-twenty",
   "metadata": {},
   "source": [
    "* What are the issues related to the cryptographic weakness of MD5?"
   ]
  },
  {
   "cell_type": "markdown",
   "id": "endangered-conspiracy",
   "metadata": {},
   "source": [
    "MD5 requires the compuation of O(2^128/2) possibilities to find a collision between H(m) and H(m') - birthday paradox, and therefore affects collision resistance\n",
    "\n",
    "Another vulnerability would be the length extension attack, where the attacker can reuse the hash: x = H(k,m'), if and only if H(m) = H(m')."
   ]
  },
  {
   "cell_type": "code",
   "execution_count": 3,
   "id": "discrete-prevention",
   "metadata": {
    "scrolled": true
   },
   "outputs": [
    {
     "name": "stdout",
     "output_type": "stream",
     "text": [
      "49f68a5c8493ec2c0bf489821c21fc3b  -\r\n",
      "8972508ac708441f98248fa5a39182e9  -\r\n",
      "0cc175b9c0f1b6a831c399e269772661  -\r\n",
      "cd73502828457d15655bbd7a63fb0bc8  -\r\n",
      "d98a07f84921b24ee30f86fd8cd85c3c  -\r\n",
      "e7d56dae820877e12f852a4166474ef7  -\r\n"
     ]
    }
   ],
   "source": [
    "!echo -n \"hi\" | md5sum >> hash_gen.txt\n",
    "!echo -n \"i'm\" | md5sum >> hash_gen.txt\n",
    "!echo -n \"a\" | md5sum >> hash_gen.txt\n",
    "!echo -n \"student\" | md5sum >> hash_gen.txt\n",
    "!echo -n \"from\" | md5sum >> hash_gen.txt\n",
    "!echo -n \"sutd\" | md5sum >> hash_gen.txt\n",
    "\n",
    "!cat hash_gen.txt"
   ]
  },
  {
   "cell_type": "markdown",
   "id": "satisfied-packet",
   "metadata": {},
   "source": [
    "## Part II: Break Hashes with Brute Force"
   ]
  },
  {
   "cell_type": "code",
   "execution_count": null,
   "id": "3c0e52d9",
   "metadata": {},
   "outputs": [
    {
     "name": "stdout",
     "output_type": "stream",
     "text": [
      "['cance is 96f6065d8f2dd1376eff88fba65d1d83']\n",
      "Remaining length:  14\n",
      "['cance is 96f6065d8f2dd1376eff88fba65d1d83', 'egunb is 1b31905c59f481958d2eb72158c27ac7']\n",
      "Remaining length:  13\n",
      "['cance is 96f6065d8f2dd1376eff88fba65d1d83', 'egunb is 1b31905c59f481958d2eb72158c27ac7', 'tthel is d4efdba5e9725e77c9b9051fa8136f0a']\n",
      "Remaining length:  12\n",
      "['cance is 96f6065d8f2dd1376eff88fba65d1d83', 'egunb is 1b31905c59f481958d2eb72158c27ac7', 'tthel is d4efdba5e9725e77c9b9051fa8136f0a', 'ofror is de952f5454fb0ee79bca249f80e9fe8f']\n",
      "Remaining length:  11\n",
      "['cance is 96f6065d8f2dd1376eff88fba65d1d83', 'egunb is 1b31905c59f481958d2eb72158c27ac7', 'tthel is d4efdba5e9725e77c9b9051fa8136f0a', 'ofror is de952f5454fb0ee79bca249f80e9fe8f', 'owso9 is 644674d142ba2174a80889f833b32563']\n",
      "Remaining length:  10\n",
      "['cance is 96f6065d8f2dd1376eff88fba65d1d83', 'egunb is 1b31905c59f481958d2eb72158c27ac7', 'tthel is d4efdba5e9725e77c9b9051fa8136f0a', 'ofror is de952f5454fb0ee79bca249f80e9fe8f', 'owso9 is 644674d142ba2174a80889f833b32563', 'nized is 78c1b8edd1bc3ffc438432479289a9e1']\n",
      "Remaining length:  9\n",
      "['cance is 96f6065d8f2dd1376eff88fba65d1d83', 'egunb is 1b31905c59f481958d2eb72158c27ac7', 'tthel is d4efdba5e9725e77c9b9051fa8136f0a', 'ofror is de952f5454fb0ee79bca249f80e9fe8f', 'owso9 is 644674d142ba2174a80889f833b32563', 'nized is 78c1b8edd1bc3ffc438432479289a9e1', 'opmen is a92b66a9802704ca8616c4b092378272']\n",
      "Remaining length:  8\n",
      "['cance is 96f6065d8f2dd1376eff88fba65d1d83', 'egunb is 1b31905c59f481958d2eb72158c27ac7', 'tthel is d4efdba5e9725e77c9b9051fa8136f0a', 'ofror is de952f5454fb0ee79bca249f80e9fe8f', 'owso9 is 644674d142ba2174a80889f833b32563', 'nized is 78c1b8edd1bc3ffc438432479289a9e1', 'opmen is a92b66a9802704ca8616c4b092378272', 'tpoin is 0d5b558d5f6744deaaf5b016c6c77a57']\n",
      "Remaining length:  7\n",
      "['cance is 96f6065d8f2dd1376eff88fba65d1d83', 'egunb is 1b31905c59f481958d2eb72158c27ac7', 'tthel is d4efdba5e9725e77c9b9051fa8136f0a', 'ofror is de952f5454fb0ee79bca249f80e9fe8f', 'owso9 is 644674d142ba2174a80889f833b32563', 'nized is 78c1b8edd1bc3ffc438432479289a9e1', 'opmen is a92b66a9802704ca8616c4b092378272', 'tpoin is 0d5b558d5f6744deaaf5b016c6c77a57', 'lou0g is 81466b6bb4be5a48e2230be1338bcde6']\n",
      "Remaining length:  6\n",
      "['cance is 96f6065d8f2dd1376eff88fba65d1d83', 'egunb is 1b31905c59f481958d2eb72158c27ac7', 'tthel is d4efdba5e9725e77c9b9051fa8136f0a', 'ofror is de952f5454fb0ee79bca249f80e9fe8f', 'owso9 is 644674d142ba2174a80889f833b32563', 'nized is 78c1b8edd1bc3ffc438432479289a9e1', 'opmen is a92b66a9802704ca8616c4b092378272', 'tpoin is 0d5b558d5f6744deaaf5b016c6c77a57', 'lou0g is 81466b6bb4be5a48e2230be1338bcde6', 'dsmto is a74edf83748e3c4fa5f31ec10bad79db']\n",
      "Remaining length:  5\n",
      "['cance is 96f6065d8f2dd1376eff88fba65d1d83', 'egunb is 1b31905c59f481958d2eb72158c27ac7', 'tthel is d4efdba5e9725e77c9b9051fa8136f0a', 'ofror is de952f5454fb0ee79bca249f80e9fe8f', 'owso9 is 644674d142ba2174a80889f833b32563', 'nized is 78c1b8edd1bc3ffc438432479289a9e1', 'opmen is a92b66a9802704ca8616c4b092378272', 'tpoin is 0d5b558d5f6744deaaf5b016c6c77a57', 'lou0g is 81466b6bb4be5a48e2230be1338bcde6', 'dsmto is a74edf83748e3c4fa5f31ec10bad79db', 'mlhdi is 6e313b70d12de950443527a33d802b76']\n",
      "Remaining length:  4\n",
      "['cance is 96f6065d8f2dd1376eff88fba65d1d83', 'egunb is 1b31905c59f481958d2eb72158c27ac7', 'tthel is d4efdba5e9725e77c9b9051fa8136f0a', 'ofror is de952f5454fb0ee79bca249f80e9fe8f', 'owso9 is 644674d142ba2174a80889f833b32563', 'nized is 78c1b8edd1bc3ffc438432479289a9e1', 'opmen is a92b66a9802704ca8616c4b092378272', 'tpoin is 0d5b558d5f6744deaaf5b016c6c77a57', 'lou0g is 81466b6bb4be5a48e2230be1338bcde6', 'dsmto is a74edf83748e3c4fa5f31ec10bad79db', 'mlhdi is 6e313b70d12de950443527a33d802b76', 'sso55 is 1b4baba3ae3be69857b323cf6b7fcd80']\n",
      "Remaining length:  3\n",
      "['cance is 96f6065d8f2dd1376eff88fba65d1d83', 'egunb is 1b31905c59f481958d2eb72158c27ac7', 'tthel is d4efdba5e9725e77c9b9051fa8136f0a', 'ofror is de952f5454fb0ee79bca249f80e9fe8f', 'owso9 is 644674d142ba2174a80889f833b32563', 'nized is 78c1b8edd1bc3ffc438432479289a9e1', 'opmen is a92b66a9802704ca8616c4b092378272', 'tpoin is 0d5b558d5f6744deaaf5b016c6c77a57', 'lou0g is 81466b6bb4be5a48e2230be1338bcde6', 'dsmto is a74edf83748e3c4fa5f31ec10bad79db', 'mlhdi is 6e313b70d12de950443527a33d802b76', 'sso55 is 1b4baba3ae3be69857b323cf6b7fcd80', 'aseas is ddaafa5d551a582bc924d09cc8d33ee5']\n",
      "Remaining length:  2\n",
      "['cance is 96f6065d8f2dd1376eff88fba65d1d83', 'egunb is 1b31905c59f481958d2eb72158c27ac7', 'tthel is d4efdba5e9725e77c9b9051fa8136f0a', 'ofror is de952f5454fb0ee79bca249f80e9fe8f', 'owso9 is 644674d142ba2174a80889f833b32563', 'nized is 78c1b8edd1bc3ffc438432479289a9e1', 'opmen is a92b66a9802704ca8616c4b092378272', 'tpoin is 0d5b558d5f6744deaaf5b016c6c77a57', 'lou0g is 81466b6bb4be5a48e2230be1338bcde6', 'dsmto is a74edf83748e3c4fa5f31ec10bad79db', 'mlhdi is 6e313b70d12de950443527a33d802b76', 'sso55 is 1b4baba3ae3be69857b323cf6b7fcd80', 'aseas is ddaafa5d551a582bc924d09cc8d33ee5', 'di5gv is 836626589007d7dd5304c8d22815fffc']\n",
      "Remaining length:  1\n"
     ]
    }
   ],
   "source": [
    "!python3 ex2.py\n",
    "!cat ex2_hash.txt"
   ]
  },
  {
   "cell_type": "markdown",
   "id": "ae4e7dcf",
   "metadata": {},
   "source": [
    "* How much time did you take in total?"
   ]
  },
  {
   "cell_type": "markdown",
   "id": "669863fe",
   "metadata": {},
   "source": [
    "354.6295855690005 sec"
   ]
  },
  {
   "cell_type": "markdown",
   "id": "other-worry",
   "metadata": {},
   "source": [
    "* How much time does it take to crack each string, on average?"
   ]
  },
  {
   "cell_type": "markdown",
   "id": "7ae75a02",
   "metadata": {},
   "source": [
    "23.6419723712667 sec"
   ]
  },
  {
   "cell_type": "markdown",
   "id": "grave-phase",
   "metadata": {},
   "source": [
    "* Is it possible to amortize (gradually write off the initial cost of) the brute forcing attempts?"
   ]
  },
  {
   "cell_type": "markdown",
   "id": "typical-broadcasting",
   "metadata": {},
   "source": [
    "Yes via the birthday attack probability theory, previous brute force attempts can stored and this will reduce the computation complexity to O(2^5/2)"
   ]
  },
  {
   "cell_type": "markdown",
   "id": "stunning-undergraduate",
   "metadata": {},
   "source": [
    "## Part III: Creating Rainbow Tables\n",
    "\n",
    "* Is rcrack faster/slower than your script ex2.py? By how much faster/slower is it?"
   ]
  },
  {
   "cell_type": "code",
   "execution_count": 10,
   "id": "9603b568",
   "metadata": {},
   "outputs": [
    {
     "name": "stdout",
     "output_type": "stream",
     "text": [
      "/bin/bash: rtgen: command not found\r\n"
     ]
    }
   ],
   "source": [
    "!cd rainbowcrack\n",
    "!rtgen md5 loweralpha-numeric 1 7 0 3800 33554432 0"
   ]
  },
  {
   "cell_type": "markdown",
   "id": "marine-hudson",
   "metadata": {},
   "source": []
  },
  {
   "cell_type": "markdown",
   "id": "international-argument",
   "metadata": {},
   "source": [
    "* Do you observe any advantages or disadvantages of using rainbowcrack?"
   ]
  },
  {
   "cell_type": "markdown",
   "id": "received-fellowship",
   "metadata": {},
   "source": []
  },
  {
   "cell_type": "markdown",
   "id": "pleasant-threat",
   "metadata": {},
   "source": [
    "## Part IV: Salt\n",
    "\n",
    "* What is the observed differences between your ease of cracking the salted vs the unsalted plaintexts?"
   ]
  },
  {
   "cell_type": "markdown",
   "id": "bizarre-worker",
   "metadata": {},
   "source": []
  },
  {
   "cell_type": "markdown",
   "id": "novel-party",
   "metadata": {},
   "source": [
    "* Report the difference in time observed to crack."
   ]
  },
  {
   "cell_type": "markdown",
   "id": "private-collective",
   "metadata": {},
   "source": []
  },
  {
   "cell_type": "markdown",
   "id": "practical-transportation",
   "metadata": {},
   "source": [
    "* Explain any differences between salted and non salted rcrack strategies."
   ]
  },
  {
   "cell_type": "markdown",
   "id": "excessive-pearl",
   "metadata": {},
   "source": []
  },
  {
   "cell_type": "markdown",
   "id": "endangered-address",
   "metadata": {},
   "source": [
    "## Part V: Hash Breaking Competition\n",
    "\n",
    "* What is the approach you used to crack the hashes"
   ]
  },
  {
   "cell_type": "markdown",
   "id": "outside-malpractice",
   "metadata": {},
   "source": []
  },
  {
   "cell_type": "markdown",
   "id": "obvious-cassette",
   "metadata": {},
   "source": [
    "* How you decided or designed your approach"
   ]
  },
  {
   "cell_type": "markdown",
   "id": "chicken-blast",
   "metadata": {},
   "source": []
  },
  {
   "cell_type": "markdown",
   "id": "simple-cookbook",
   "metadata": {},
   "source": [
    "* Main challenges and limitations of your approach"
   ]
  },
  {
   "cell_type": "markdown",
   "id": "future-tulsa",
   "metadata": {},
   "source": []
  },
  {
   "cell_type": "markdown",
   "id": "original-halifax",
   "metadata": {},
   "source": [
    "* How many hashes did you manage to crack?"
   ]
  },
  {
   "cell_type": "code",
   "execution_count": null,
   "id": "411f00a0",
   "metadata": {},
   "outputs": [],
   "source": []
  }
 ],
 "metadata": {
  "kernelspec": {
   "display_name": "Python 3 (ipykernel)",
   "language": "python",
   "name": "python3"
  },
  "language_info": {
   "codemirror_mode": {
    "name": "ipython",
    "version": 3
   },
   "file_extension": ".py",
   "mimetype": "text/x-python",
   "name": "python",
   "nbconvert_exporter": "python",
   "pygments_lexer": "ipython3",
   "version": "3.8.10"
  }
 },
 "nbformat": 4,
 "nbformat_minor": 5
}
