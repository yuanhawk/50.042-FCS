{
 "cells": [
  {
   "cell_type": "markdown",
   "id": "applicable-mozambique",
   "metadata": {},
   "source": [
    "# FCS Lab 3 - MD5, Rainbow Tables"
   ]
  },
  {
   "cell_type": "markdown",
   "id": "beneficial-constitutional",
   "metadata": {},
   "source": [
    "* Name(s): Tan Li Yuan\n",
    "* Student ID(s): 1004326"
   ]
  },
  {
   "cell_type": "markdown",
   "id": "identified-wagon",
   "metadata": {},
   "source": [
    "## Part I: Hashing Using MD5\n",
    "\n",
    "* How does the length of the hash correspond to the input string?"
   ]
  },
  {
   "cell_type": "markdown",
   "id": "international-combining",
   "metadata": {},
   "source": [
    "The length of the hash remains the same regardless of the length of the input string"
   ]
  },
  {
   "cell_type": "markdown",
   "id": "million-aberdeen",
   "metadata": {},
   "source": [
    "* Are there any visible correlations between the hash and the input string?"
   ]
  },
  {
   "cell_type": "markdown",
   "id": "395d2341",
   "metadata": {},
   "source": [
    "The are no visible correlations."
   ]
  },
  {
   "cell_type": "markdown",
   "id": "protective-twenty",
   "metadata": {},
   "source": [
    "* What are the issues related to the cryptographic weakness of MD5?"
   ]
  },
  {
   "cell_type": "markdown",
   "id": "endangered-conspiracy",
   "metadata": {},
   "source": [
    "MD5 requires the compuation of O(2^128/2) possibilities to find a collision between H(m) and H(m') - birthday paradox, and therefore affects collision resistance\n",
    "\n",
    "Another vulnerability would be the length extension attack, where the attacker can reuse the hash: x = H(k,m'), if and only if H(m) = H(m')."
   ]
  },
  {
   "cell_type": "code",
   "execution_count": 3,
   "id": "discrete-prevention",
   "metadata": {
    "scrolled": true
   },
   "outputs": [
    {
     "name": "stdout",
     "output_type": "stream",
     "text": [
      "49f68a5c8493ec2c0bf489821c21fc3b  -\r\n",
      "8972508ac708441f98248fa5a39182e9  -\r\n",
      "0cc175b9c0f1b6a831c399e269772661  -\r\n",
      "cd73502828457d15655bbd7a63fb0bc8  -\r\n",
      "d98a07f84921b24ee30f86fd8cd85c3c  -\r\n",
      "e7d56dae820877e12f852a4166474ef7  -\r\n"
     ]
    }
   ],
   "source": [
    "!echo -n \"hi\" | md5sum >> hash_gen.txt\n",
    "!echo -n \"i'm\" | md5sum >> hash_gen.txt\n",
    "!echo -n \"a\" | md5sum >> hash_gen.txt\n",
    "!echo -n \"student\" | md5sum >> hash_gen.txt\n",
    "!echo -n \"from\" | md5sum >> hash_gen.txt\n",
    "!echo -n \"sutd\" | md5sum >> hash_gen.txt\n",
    "\n",
    "!cat hash_gen.txt"
   ]
  },
  {
   "cell_type": "markdown",
   "id": "satisfied-packet",
   "metadata": {},
   "source": [
    "## Part II: Break Hashes with Brute Force"
   ]
  },
  {
   "cell_type": "code",
   "execution_count": 5,
   "id": "3c0e52d9",
   "metadata": {},
   "outputs": [
    {
     "name": "stdout",
     "output_type": "stream",
     "text": [
      "Traceback (most recent call last):\n",
      "  File \"/usr/lib/python3.8/timeit.py\", line 325, in main\n",
      "    number, _ = t.autorange(callback)\n",
      "  File \"/usr/lib/python3.8/timeit.py\", line 223, in autorange\n",
      "    time_taken = self.timeit(number)\n",
      "  File \"/usr/lib/python3.8/timeit.py\", line 177, in timeit\n",
      "    timing = self.inner(it, self.timer)\n",
      "  File \"<timeit-src>\", line 6, in inner\n",
      "    ex2.py\n",
      "NameError: name 'ex2' is not defined\n",
      "cance\n",
      "egunb\n",
      "tthel\n",
      "ofror\n",
      "owso9\n",
      "nized\n",
      "opmen\n",
      "tpoin\n",
      "lou0g\n",
      "dsmto\n",
      "mlhdi\n",
      "sso55\n",
      "aseas\n",
      "di5gv\n",
      "hed4e\n"
     ]
    }
   ],
   "source": [
    "!python3 -m timeit ex2.py\n",
    "!cat ex2_hash.txt"
   ]
  },
  {
   "cell_type": "markdown",
   "id": "d6beeca0",
   "metadata": {},
   "source": [
    "* How much time did you take in total?"
   ]
  },
  {
   "cell_type": "markdown",
   "id": "e7fb4ddf",
   "metadata": {},
   "source": [
    "354.6295855690005 sec"
   ]
  },
  {
   "cell_type": "markdown",
   "id": "other-worry",
   "metadata": {},
   "source": [
    "* How much time does it take to crack each string, on average?"
   ]
  },
  {
   "cell_type": "markdown",
   "id": "baefcdf3",
   "metadata": {},
   "source": [
    "23.6419723712667 sec"
   ]
  },
  {
   "cell_type": "markdown",
   "id": "grave-phase",
   "metadata": {},
   "source": [
    "* Is it possible to amortize (gradually write off the initial cost of) the brute forcing attempts?"
   ]
  },
  {
   "cell_type": "markdown",
   "id": "typical-broadcasting",
   "metadata": {},
   "source": [
    "Yes via the birthday attack probability theory, previous brute force attempts can stored and this will reduce the computation complexity to O(2^5/2)"
   ]
  },
  {
   "cell_type": "markdown",
   "id": "stunning-undergraduate",
   "metadata": {},
   "source": [
    "## Part III: Creating Rainbow Tables\n",
    "\n",
    "* Is rcrack faster/slower than your script ex2.py? By how much faster/slower is it?"
   ]
  },
  {
   "cell_type": "code",
   "execution_count": 10,
   "id": "9603b568",
   "metadata": {},
   "outputs": [
    {
     "name": "stdout",
     "output_type": "stream",
     "text": [
      "/bin/bash: rtgen: command not found\r\n"
     ]
    }
   ],
   "source": [
    "!cd rainbowcrack\n",
    "!rtgen md5 loweralpha-numeric 1 7 0 3800 33554432 0"
   ]
  },
  {
   "cell_type": "markdown",
   "id": "marine-hudson",
   "metadata": {},
   "source": []
  },
  {
   "cell_type": "markdown",
   "id": "international-argument",
   "metadata": {},
   "source": [
    "* Do you observe any advantages or disadvantages of using rainbowcrack?"
   ]
  },
  {
   "cell_type": "markdown",
   "id": "received-fellowship",
   "metadata": {},
   "source": []
  },
  {
   "cell_type": "markdown",
   "id": "pleasant-threat",
   "metadata": {},
   "source": [
    "## Part IV: Salt\n",
    "\n",
    "* What is the observed differences between your ease of cracking the salted vs the unsalted plaintexts?"
   ]
  },
  {
   "cell_type": "markdown",
   "id": "bizarre-worker",
   "metadata": {},
   "source": []
  },
  {
   "cell_type": "markdown",
   "id": "novel-party",
   "metadata": {},
   "source": [
    "* Report the difference in time observed to crack."
   ]
  },
  {
   "cell_type": "markdown",
   "id": "private-collective",
   "metadata": {},
   "source": []
  },
  {
   "cell_type": "markdown",
   "id": "practical-transportation",
   "metadata": {},
   "source": [
    "* Explain any differences between salted and non salted rcrack strategies."
   ]
  },
  {
   "cell_type": "markdown",
   "id": "excessive-pearl",
   "metadata": {},
   "source": []
  },
  {
   "cell_type": "markdown",
   "id": "endangered-address",
   "metadata": {},
   "source": [
    "## Part V: Hash Breaking Competition\n",
    "\n",
    "* What is the approach you used to crack the hashes"
   ]
  },
  {
   "cell_type": "markdown",
   "id": "outside-malpractice",
   "metadata": {},
   "source": []
  },
  {
   "cell_type": "markdown",
   "id": "obvious-cassette",
   "metadata": {},
   "source": [
    "* How you decided or designed your approach"
   ]
  },
  {
   "cell_type": "markdown",
   "id": "chicken-blast",
   "metadata": {},
   "source": []
  },
  {
   "cell_type": "markdown",
   "id": "simple-cookbook",
   "metadata": {},
   "source": [
    "* Main challenges and limitations of your approach"
   ]
  },
  {
   "cell_type": "markdown",
   "id": "future-tulsa",
   "metadata": {},
   "source": []
  },
  {
   "cell_type": "markdown",
   "id": "original-halifax",
   "metadata": {},
   "source": [
    "* How many hashes did you manage to crack?"
   ]
  },
  {
   "cell_type": "code",
   "execution_count": null,
   "id": "411f00a0",
   "metadata": {},
   "outputs": [],
   "source": []
  }
 ],
 "metadata": {
  "kernelspec": {
   "display_name": "Python 3 (ipykernel)",
   "language": "python",
   "name": "python3"
  },
  "language_info": {
   "codemirror_mode": {
    "name": "ipython",
    "version": 3
   },
   "file_extension": ".py",
   "mimetype": "text/x-python",
   "name": "python",
   "nbconvert_exporter": "python",
   "pygments_lexer": "ipython3",
   "version": "3.8.10"
  }
 },
 "nbformat": 4,
 "nbformat_minor": 5
}
