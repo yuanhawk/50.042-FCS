{
 "cells": [
  {
   "cell_type": "markdown",
   "id": "express-eclipse",
   "metadata": {},
   "source": [
    "## FCS Lab 2 Submission Report"
   ]
  },
  {
   "cell_type": "markdown",
   "id": "stretch-lunch",
   "metadata": {},
   "source": [
    "* Name of Student(s): Tan Li Yuan, Teo Yew Xuan\n",
    "* Student ID(s): 1004326, 1004452"
   ]
  },
  {
   "cell_type": "code",
   "execution_count": 49,
   "id": "42ba121b",
   "metadata": {},
   "outputs": [
    {
     "name": "stdout",
     "output_type": "stream",
     "text": [
      "Requirement already satisfied: requests in /home/yuanhawk/jupyter/environment/lib/python3.8/site-packages (2.26.0)\r\n",
      "Requirement already satisfied: urllib3<1.27,>=1.21.1 in /home/yuanhawk/jupyter/environment/lib/python3.8/site-packages (from requests) (1.26.7)\r\n",
      "Requirement already satisfied: charset-normalizer~=2.0.0 in /home/yuanhawk/jupyter/environment/lib/python3.8/site-packages (from requests) (2.0.6)\r\n",
      "Requirement already satisfied: idna<4,>=2.5 in /home/yuanhawk/jupyter/environment/lib/python3.8/site-packages (from requests) (3.2)\r\n",
      "Requirement already satisfied: certifi>=2017.4.17 in /home/yuanhawk/jupyter/environment/lib/python3.8/site-packages (from requests) (2021.5.30)\r\n"
     ]
    }
   ],
   "source": [
    "!pip3 install requests # install requests"
   ]
  },
  {
   "cell_type": "code",
   "execution_count": 50,
   "id": "active-machine",
   "metadata": {},
   "outputs": [],
   "source": [
    "import base64\n",
    "import requests\n",
    "def XOR(a, b):\n",
    "    r = b\"\"\n",
    "    for x, y in zip(a, b):\n",
    "        r += (x ^ y).to_bytes(1, \"big\")\n",
    "    return r\n",
    "class Client:\n",
    "    def __init__(self, endpoint, uid):\n",
    "        self.endpoint = endpoint\n",
    "        self.uid = str(uid).lower().strip()\n",
    "    def post(self, url, data=None):\n",
    "        r = requests.post(url, json=data).json()\n",
    "        if not r[\"success\"]:\n",
    "            print(\"Warning: something might be wrong with the server\")\n",
    "            print(\"If you don't think is your mistake, please report it!\")\n",
    "        return r\n",
    "    def get_story_cipher(self):\n",
    "        url = self.endpoint+\"/story\"\n",
    "        return requests.get(url).json()\n",
    "    def post_story_plaintext(self, solution):\n",
    "        url = self.endpoint+\"/story\"\n",
    "        solution = str(solution).lower().strip()\n",
    "        data = {\"solution\":solution}\n",
    "        return self.post(url, data)\n",
    "    def get_score_msg_cipher(self):\n",
    "        url = self.endpoint+\"/score\"\n",
    "        data = {\"request\":\"get_msg\", \"id\":self.uid}\n",
    "        return self.post(url, data)\n",
    "    def submit_score_msg_cipher(self, cipher_base64):\n",
    "        url = self.endpoint+\"/score\"\n",
    "        data = {\"request\":\"decrypt_msg\", \"id\":self.uid, \"cipher\": cipher_base64}\n",
    "        return self.post(url, data)\n",
    "    def base64_encode_bytes(self, byte_array):\n",
    "        return str(base64.b64encode(byte_array))[2:-1]\n",
    "    def base64_decode_bytes(self, base64_string):\n",
    "        return base64.b64decode(base64_string)"
   ]
  },
  {
   "cell_type": "code",
   "execution_count": 51,
   "id": "pleased-simon",
   "metadata": {},
   "outputs": [],
   "source": [
    "endpoint = \"http://35.197.130.121/\"\n",
    "uid = \"1004326\"\n",
    "\n",
    "client = Client(endpoint, uid)"
   ]
  },
  {
   "cell_type": "markdown",
   "id": "mobile-affect",
   "metadata": {},
   "source": [
    "## Part I: Story - Substitution Cipher\n",
    "\n",
    "1. GET the cipher for the story\n",
    "2. Crack this with frequency analysis\n",
    "3. POST it back to the server to check (example is provided below)\n",
    "\n",
    "If the response contains `'solution_correct': 'correct'`, then your decryption is correct. Otherwise, a distance will be provided to let you know how far off you are. If you are off by a tiny bit (say, 1 or 2), you can check things like line-ending, extra space at start/end etc. The verification is not case sensitive."
   ]
  },
  {
   "cell_type": "code",
   "execution_count": 52,
   "id": "heavy-soviet",
   "metadata": {},
   "outputs": [
    {
     "name": "stdout",
     "output_type": "stream",
     "text": [
      "story_cipher: MXQJ YI IOCFXEWUQH. VEH Q BEEEEEDW, BEEEDW JYCU Y  ...\n"
     ]
    }
   ],
   "source": [
    "story_cipher = client.get_story_cipher()[\"cipher\"]\n",
    "print(\"story_cipher:\", story_cipher[:50], \"...\")"
   ]
  },
  {
   "cell_type": "code",
   "execution_count": 53,
   "id": "powerful-zoning",
   "metadata": {},
   "outputs": [
    {
     "name": "stdout",
     "output_type": "stream",
     "text": [
      "{'G': 0, 'P': 1, 'N': 3, 'Z': 3, 'A': 20, 'L': 29, 'R': 35, 'F': 43, 'M': 50, 'V': 50, 'K': 51, 'O': 58, 'S': 61, 'C': 70, 'W': 71, 'T': 98, 'B': 102, 'H': 131, 'X': 160, 'I': 198, 'D': 205, 'E': 206, 'Q': 213, 'Y': 229, 'J': 263, 'U': 305}\n",
      "MXQJ YI IOCFXEWUQH. VEH Q BEEEEEDW, BEEEDW JYCU Y XQLU DULUH REJXUHUT UDWQWYDW COIUBV YD JXYI VHQDSXYIU. Y TYT DEJ KDTUHIJQDT MXQJ YJ YI. DEM JXQJ JXU IXEM YI XQLYDW YJI BQIJ IUQIED, Y TUSYTUT JE VYDQBBO WYLU YD, WYLU IOCFXEWUQH Q JHO VHEC JXU LUHO IJQHJ. Y MEDTUHUT XEM XQLU Y CYIIUT EKJ ED JXU QDYCU EV JXU TUSQTU QBB JXUIU OUQHI. Y XEDUIJBO TYT DEJ ADEM MXQJ JE UNFUSJ MQJSXYDW JXU LUHO VYHIJ UFYIETU ADEMYDW QRIEBKJUBO DEJXYDW QREKJ JXU VHQDSXYIU. JXU IXEM JEOUT MYJX CO UCEJYEDI IE CKSX YD JXQJ EFUDYDW IUJFYUSU. YJ UDTUT KF RUYDW EDU EV JXU CEIJ BYVU QVVYHCYDW IXEMI EKJ JXUHU. Q IJKDDYDW TYIFBQO EV YTYESO QDT QSJYED JXQJ YI REJX SXQHCYDW QDT SQFJYLQJYDW. YJ YI SEDVYTUDJ YD YJI IJHUDWJXI QDT FQHQTUI YJI MUQADUIIUI FHEKTBO, Q IXEM JXQJ YI REJX QBB IJOBU QDT QBB IKRIJQDSU. EX RKJ CEIJ EV QBB, YJ YI Q JHKU HEBBUH SEQIJUH EV UCEJYEDI, QDT Y TE DEJ KIU JXQJ JUHC BYWXJBO. Y BQKWXUT, Y SHYUT, Y WEJ VHKIJHQJUT QJ JXU YDUFJYJKTU QDT IJKFYTYJO EV REJX JXU SXQHQSJUHI QDT JXU SHUQJEHI, RKJ CEIJ EV QBB, Y BELUT. MXUD JXU SKHIU EV RQBQB VUBB YD FBQSU, IEDWI IJYBB CQDQWUT JE RHYTWU JXQJ WQF QDT SEDDUSJ KI QBB JEWUJXUH. JXU EDU UCEJYED JXU IXEM DULUH VQYBI JE TUBYLUH YI XOFU. JXU IKHWU EV QTHUDQBYDU QDT UDTEHFXYDI QDT QBB JXU SXUCYSQBI YD OEKH RHQYD MXUDULUH IECUJXYDW QMUIECU YI XQFFUDYDW EDISHUUD YI Q HQHU JHUQJ YD CEIJ EJXUH QDYCU, RKJ Q SEDIJQDJ ESSKHHUDSU YD JXYI IXEM. JXU XOFU TEUI ESSQIYEDQBBO VQYB JE TUBYLUH, JXU XYWXUH UNFUSJQJYEDI SQD IECUJYCUI RU EX JEE CKSX, RKJ IJYBB, MXUD OEK XUQH XYRYAY ISHUQC, OEK ADEM IXU CUQDI RKIYDUII QDT ZEYD XUH YD IEDW. QDT JXEIU IEDWI QHU FHUSYIUBO MXQJ AUUFI IOCFXEWUQH YD JXU CYDTI EV CQDO QBB JXYI MXYBU. Y QC DEJ QD YTEB QDYCU FUHIED, Y TUIFYIU CEIJ YTEB QDYCU QDT OUJ. QDT OUJ. JXU CECUDJ Y XUQHT JXU IEDWI VEH JXU VYHIJ JYCU HYWXJ JXUHU ED JXU YTEB SEDSUHJ, Y MQI UDJXHQBBUT. Y ADUM JXQJ HUWQHTBUII EV XEM JXU IXEM JKHDUT EKJ, YJ MEKBT XQLU WHUQJ CKIYS. SELUHYDW CQDO WUDHUI, JXU IXEM XQI Q TYLUHIU FQBUJJU EV IEDWI HQDWYDW VHEC SUBJYS HESA JE UDAQ YDIFYHUT JHQSAI, JXUHU YI DE IXEHJQWU EV LQHYUJO. OUI JXUHU QHU IEDWI JXQJ TE DEJ MEHA MUBB, RKJ JXU EDUI JXQJ HUIEDQJU VQH EKJMUYWX JXU ESSQIYEDQB RQT EDUI.  IOCFXEWUQH XQI JE RU JQAUD YD QI Q SECFBUJU FQSAQWU. YJ JHKBO YI CEHU JXQD JXU IKC EV YJI FQHJI. BEEAYDW RQSA, OUI Y SQD QWHUU ED QBB JXU VBQMI, IECU CQZEH, JXU IXEM XQI XQT. OUJ YD IFYJU EV YJ QBB, QSHEII IULUD OUQHI QDT VYLU IUQIEDI. YJ YI MXO Y KBJYCQJUBO TUSYTUT YD QMQHTYDW YJ MYJX EDU EV CO HQHU DYDUI. IECUJXYDW JXYI IFUSYQB, JXYI YDIFYHQJYEDQB, JXYI BEDW BQIJYDW YI JHKBO QD UNFUHYUDSU JE RUXEBT. VEH RUJJUH VEH MEHIU, YJ YI JXU TUVYDYJYLU QDYCU JXQJ HUFHUIUDJI JXU TUSQTU. YJ CQO DEJ XQLU UDTUT YD JXU MQO Y MQDJUT, QDT YJ CQO DEJ XQLU JXQJ EDU AYII Y MQI BEEAYDW VEH, RKJ YJ VYBBUT JXU XEBU YD CO XUQHJ, QDT MYJX YJ UDTYDW, JXU WQFYDW MEKDT YD CO IEKB CQO DULUH XUQB. CQORU, VEH DEM, Y MYBB IQO JXQJ JXU IXEM UDTUT MUBB. YJ MQI DEJ FUHLUHJUT YDJE Q PECRYU VHQDSXYIU BYAU EJXUHI, DEH TYT YJ IJKCRBU XQHT YD YJI VYDQB CECUDJ QDT IJHKWWBU JE HUSBQYC YJI FQIJ WBEHO. YJ XQT IXEHJSECYDWI, RKJ JXYDAYDW RQSA, JXU ZEKHDUO JE JXU UDT XQI RUUD Q IQJYIVOYDW EDU JXHEKWXEKJ. IE MXQJ YI IOCFXEWUQH. YJ YI Q XORHYT YTEB QDYCU. YJ YI QD QDYCU QREKJ VYIJYDW. YJ YI VYLU IUQIEDI QDT IULUD OUQHI BEDW QDT XQI SQFJYLQJUT JXU XUQHJI EV CQDO. RKJ CEIJ YCFEHJQDJBO, YJ YI RUBYULYDW YD JXU IEDW EV OEKH XUQHJ.\n",
      "16\n",
      "16\n",
      "what is symphogear. for a looooong, looong time i have never bothered engaging myself in this franchise. i did not understand what it is. now that the show is having its last season, i decided to finally give in, give symphogear a try from the very start. i wondered how have i missed out on the anime of the decade all these years. i honestly did not know what to expect watching the very first episode knowing absolutely nothing about the franchise. the show toyed with my emotions so much in that opening setpiece. it ended up being one of the most life affirming shows out there. a stunning display of idiocy and action that is both charming and captivating. it is confident in its strengths and parades its weaknesses proudly, a show that is both all style and all substance. oh but most of all, it is a true roller coaster of emotions, and i do not use that term lightly. i laughed, i cried, i got frustrated at the ineptitude and stupidity of both the characters and the creators, but most of all, i loved. when the curse of balal fell in place, songs still managed to bridge that gap and connect us all together. the one emotion the show never fails to deliver is hype. the surge of adrenaline and endorphins and all the chemicals in your brain whenever something awesome is happening onscreen is a rare treat in most other anime, but a constant occurrence in this show. the hype does occasionally fail to deliver, the higher expectations can sometimes be oh too much, but still, when you hear hibiki scream, you know she means business and join her in song. and those songs are precisely what keeps symphogear in the minds of many all this while. i am not an idol anime person, i despise most idol anime and yet. and yet. the moment i heard the songs for the first time right there on the idol concert, i was enthralled. i knew that regardless of how the show turned out, it would have great music. covering many genres, the show has a diverse palette of songs ranging from celtic rock to enka inspired tracks, there is no shortage of variety. yes there are songs that do not work well, but the ones that resonate far outweigh the occasional bad ones.  symphogear has to be taken in as a complete package. it truly is more than the sum of its parts. looking back, yes i can agree on all the flaws, some major, the show has had. yet in spite of it all, across seven years and five seasons. it is why i ultimately decided in awarding it with one of my rare nines. something this special, this inspirational, this long lasting is truly an experience to behold. for better for worse, it is the definitive anime that represents the decade. it may not have ended in the way i wanted, and it may not have that one kiss i was looking for, but it filled the hole in my heart, and with it ending, the gaping wound in my soul may never heal. maybe, for now, i will say that the show ended well. it was not perverted into a zombie franchise like others, nor did it stumble hard in its final moment and struggle to reclaim its past glory. it had shortcomings, but thinking back, the journey to the end has been a satisfying one throughout. so what is symphogear. it is a hybrid idol anime. it is an anime about fisting. it is five seasons and seven years long and has captivated the hearts of many. but most importantly, it is believing in the song of your heart.\n"
     ]
    },
    {
     "data": {
      "text/plain": [
       "{'distance': '0', 'solution_correct': 'correct', 'success': True}"
      ]
     },
     "execution_count": 53,
     "metadata": {},
     "output_type": "execute_result"
    }
   ],
   "source": [
    "# example posting a string back to the server\n",
    "import string\n",
    "\n",
    "text = ''\n",
    "def analyze_frequency(cipher):\n",
    "    alp = list(string.ascii_uppercase)\n",
    "    freq = {}\n",
    "    for a in alp:\n",
    "        freq[a] = cipher.count(a)\n",
    "    new_freq = dict(sorted(freq.items(), key=lambda item: item[1]))\n",
    "    print(new_freq)\n",
    "    \n",
    "    keys = []\n",
    "    for idx, key in enumerate(new_freq):\n",
    "        if idx > 12:\n",
    "            keys.insert(0, key)\n",
    "    return keys\n",
    "\n",
    "def replace_text(cipher, freq):\n",
    "    freq_let = ['e', 'a', 'r', 'i', 'o', 't', 'n', 's', 'l', 'c', 'u', 'd', 'p']\n",
    "    print(cipher)\n",
    "    \n",
    "    # Case 1: U -> E (Most common letter is U)\n",
    "    dist1 = ord(freq[0]) - ord('E')\n",
    "    print(dist1)\n",
    "    \n",
    "    # Case 2: Y -> I (Likelihood of starting with I is higher than A)\n",
    "    dist2 = ord('Y') - ord('I')\n",
    "    print(dist2)\n",
    "    \n",
    "    dec = ''\n",
    "    for c in cipher:\n",
    "        if c == ' ':\n",
    "            dec += ' '\n",
    "        elif c == ',':\n",
    "            dec += ','\n",
    "        elif c == '.':\n",
    "            dec += '.'\n",
    "        else:\n",
    "            dec += chr(ord('a') + (((ord(c) - ord('A')) - dist1) % 26)) # A - 65\n",
    "    return dec\n",
    "\n",
    "if __name__ == \"__main__\":\n",
    "    freq = analyze_frequency(story_cipher)\n",
    "    text = replace_text(story_cipher, freq)\n",
    "    print(text)\n",
    "\n",
    "client.post_story_plaintext(text)\n",
    "# a distance is provided for you to check how close you are"
   ]
  },
  {
   "cell_type": "code",
   "execution_count": 54,
   "id": "cubic-optimization",
   "metadata": {},
   "outputs": [
    {
     "ename": "FileNotFoundError",
     "evalue": "[Errno 2] No such file or directory: './solution.txt'",
     "output_type": "error",
     "traceback": [
      "\u001b[0;31m---------------------------------------------------------------------------\u001b[0m",
      "\u001b[0;31mFileNotFoundError\u001b[0m                         Traceback (most recent call last)",
      "\u001b[0;32m/tmp/ipykernel_2534/2816329918.py\u001b[0m in \u001b[0;36m<module>\u001b[0;34m\u001b[0m\n\u001b[1;32m      1\u001b[0m \u001b[0;31m# you can also load solution from a text file\u001b[0m\u001b[0;34m\u001b[0m\u001b[0;34m\u001b[0m\u001b[0;34m\u001b[0m\u001b[0m\n\u001b[0;32m----> 2\u001b[0;31m \u001b[0;32mwith\u001b[0m \u001b[0mopen\u001b[0m\u001b[0;34m(\u001b[0m\u001b[0;34m\"./solution.txt\"\u001b[0m\u001b[0;34m,\u001b[0m \u001b[0;34m\"r\"\u001b[0m\u001b[0;34m)\u001b[0m \u001b[0;32mas\u001b[0m \u001b[0mfile\u001b[0m\u001b[0;34m:\u001b[0m\u001b[0;34m\u001b[0m\u001b[0;34m\u001b[0m\u001b[0m\n\u001b[0m\u001b[1;32m      3\u001b[0m     \u001b[0mPART_1_SOLUTION\u001b[0m \u001b[0;34m=\u001b[0m \u001b[0mfile\u001b[0m\u001b[0;34m.\u001b[0m\u001b[0mread\u001b[0m\u001b[0;34m(\u001b[0m\u001b[0;34m)\u001b[0m\u001b[0;34m\u001b[0m\u001b[0;34m\u001b[0m\u001b[0m\n\u001b[1;32m      4\u001b[0m \u001b[0mpart_1_result\u001b[0m \u001b[0;34m=\u001b[0m \u001b[0mclient\u001b[0m\u001b[0;34m.\u001b[0m\u001b[0mpost_story_plaintext\u001b[0m\u001b[0;34m(\u001b[0m\u001b[0mPART_1_SOLUTION\u001b[0m\u001b[0;34m)\u001b[0m\u001b[0;34m\u001b[0m\u001b[0;34m\u001b[0m\u001b[0m\n\u001b[1;32m      5\u001b[0m \u001b[0mprint\u001b[0m\u001b[0;34m(\u001b[0m\u001b[0mpart_1_result\u001b[0m\u001b[0;34m)\u001b[0m\u001b[0;34m\u001b[0m\u001b[0;34m\u001b[0m\u001b[0m\n",
      "\u001b[0;31mFileNotFoundError\u001b[0m: [Errno 2] No such file or directory: './solution.txt'"
     ]
    }
   ],
   "source": [
    "# you can also load solution from a text file\n",
    "with open(\"./solution.txt\", \"r\") as file:\n",
    "    PART_1_SOLUTION = file.read()\n",
    "part_1_result = client.post_story_plaintext(PART_1_SOLUTION)\n",
    "print(part_1_result)\n",
    "assert part_1_result[\"solution_correct\"] == \"correct\""
   ]
  },
  {
   "cell_type": "markdown",
   "id": "directed-scholar",
   "metadata": {},
   "source": [
    "## Part II: Changing the Score Message - OTP"
   ]
  },
  {
   "cell_type": "code",
   "execution_count": 55,
   "id": "quarterly-florence",
   "metadata": {},
   "outputs": [
    {
     "name": "stdout",
     "output_type": "stream",
     "text": [
      "{'cipher': '5MfCps2oaiUUley+U1324yuDMi7Mhlxoen0KWbhSkQxoG5s9334W1AVdpME=', 'hint': 'it is a OTP, you will not be able to guess it, find a way to edit the message without the OTP key', 'success': True}\n"
     ]
    }
   ],
   "source": [
    "response = client.get_score_msg_cipher()\n",
    "print(response)"
   ]
  },
  {
   "cell_type": "code",
   "execution_count": 56,
   "id": "passive-jewelry",
   "metadata": {},
   "outputs": [
    {
     "name": "stdout",
     "output_type": "stream",
     "text": [
      "b'\\xe4\\xc7\\xc2\\xa6\\xcd\\xa8j%\\x14\\x95\\xec\\xbeS]\\xf6\\xe3+\\x832.\\xcc\\x86\\\\hz}\\nY\\xb8R\\x91\\x0ch\\x1b\\x9b=\\xdf~\\x16\\xd4\\x05]\\xa4\\xc1'\n"
     ]
    }
   ],
   "source": [
    "cipher = client.base64_decode_bytes(response[\"cipher\"])\n",
    "print(cipher)"
   ]
  },
  {
   "cell_type": "code",
   "execution_count": 57,
   "id": "saved-yield",
   "metadata": {},
   "outputs": [
    {
     "name": "stdout",
     "output_type": "stream",
     "text": [
      "bytearray(b'Student ID 1004326 gets a total of 0 points!')\n",
      "bytearray(b'Student ID 1004326 gets a total of 9 points!')\n"
     ]
    }
   ],
   "source": [
    "encoded_cipher = client.base64_encode_bytes(cipher)\n",
    "output = client.submit_score_msg_cipher(encoded_cipher)\n",
    "\n",
    "init = bytearray(output['plaintext'], 'utf-8') # initial msg\n",
    "print(init)\n",
    "replaced = bytearray('Student ID 1004326 gets a total of 9 points!', 'utf-8') # replaced msg\n",
    "print(replaced)"
   ]
  },
  {
   "cell_type": "code",
   "execution_count": 58,
   "id": "6892340e",
   "metadata": {},
   "outputs": [],
   "source": [
    "def byte_xor(ba1, ba2): # 2 types of fancy xor function\n",
    "    # b = bytearray()\n",
    "    # for i in range(len(ba1)):\n",
    "    #     b.append(ba1[i] ^ ba2[i])\n",
    "    # return b\n",
    "    return bytes([a ^ b for a, b in zip(ba1, ba2)])"
   ]
  },
  {
   "cell_type": "code",
   "execution_count": 59,
   "id": "motivated-pollution",
   "metadata": {},
   "outputs": [
    {
     "data": {
      "text/plain": [
       "{'plaintext': 'Student ID 1004326 gets a total of 9 points!', 'success': True}"
      ]
     },
     "execution_count": 59,
     "metadata": {},
     "output_type": "execute_result"
    }
   ],
   "source": [
    "mask = byte_xor(init, replaced)\n",
    "new_cipher = byte_xor(mask, cipher)\n",
    "encoded_new_cipher = client.base64_encode_bytes(new_cipher)\n",
    "client.submit_score_msg_cipher(encoded_new_cipher)"
   ]
  },
  {
   "cell_type": "code",
   "execution_count": null,
   "id": "consecutive-person",
   "metadata": {},
   "outputs": [],
   "source": []
  }
 ],
 "metadata": {
  "kernelspec": {
   "display_name": "Python 3 (ipykernel)",
   "language": "python",
   "name": "python3"
  },
  "language_info": {
   "codemirror_mode": {
    "name": "ipython",
    "version": 3
   },
   "file_extension": ".py",
   "mimetype": "text/x-python",
   "name": "python",
   "nbconvert_exporter": "python",
   "pygments_lexer": "ipython3",
   "version": "3.8.10"
  }
 },
 "nbformat": 4,
 "nbformat_minor": 5
}
