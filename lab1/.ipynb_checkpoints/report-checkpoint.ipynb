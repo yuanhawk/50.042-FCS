{
 "cells": [
  {
   "cell_type": "markdown",
   "id": "searching-pioneer",
   "metadata": {},
   "source": [
    "## FCS Lab 1 Submission Report"
   ]
  },
  {
   "cell_type": "markdown",
   "id": "raised-victim",
   "metadata": {},
   "source": [
    "* Name of Student(s): Tan Li Yuan\n",
    "* Student ID(s): 1004326"
   ]
  },
  {
   "cell_type": "code",
   "execution_count": 1,
   "id": "closed-bacteria",
   "metadata": {},
   "outputs": [
    {
     "name": "stdout",
     "output_type": "stream",
     "text": [
      "Execution time: 2021-09-19 04:24:55\n"
     ]
    }
   ],
   "source": [
    "import datetime\n",
    "print(\"Execution time:\", datetime.datetime.now(datetime.timezone.utc).strftime(\"%Y-%m-%d %H:%M:%S\"))"
   ]
  },
  {
   "cell_type": "markdown",
   "id": "distributed-roots",
   "metadata": {},
   "source": [
    "### Part I: Shift Cipher for printable input"
   ]
  },
  {
   "cell_type": "code",
   "execution_count": 2,
   "id": "gentle-demographic",
   "metadata": {},
   "outputs": [
    {
     "name": "stdout",
     "output_type": "stream",
     "text": [
      "wXJ}JrVJ¡J¡J£J £JJJJVJ JJJJJJ¡JJ¡JJJVJ¡JJJJJX"
     ]
    }
   ],
   "source": [
    "!python3 ex1.py -i sherlock_short.txt -o sherlock_short.en -k 42 -m e\n",
    "!cat sherlock_short.en"
   ]
  },
  {
   "cell_type": "code",
   "execution_count": 3,
   "id": "handled-adobe",
   "metadata": {},
   "outputs": [
    {
     "name": "stdout",
     "output_type": "stream",
     "text": [
      "Mr. Sherlock Holmes, who was usually very late in the mornings, save upon those not infrequent occasions when he was up all night, was seated at the breakfast table."
     ]
    }
   ],
   "source": [
    "!python3 ex1.py -i sherlock_short.en -o sherlock_short.de.txt -k 42 -m d\n",
    "!cat sherlock_short.de.txt"
   ]
  },
  {
   "cell_type": "markdown",
   "id": "warming-producer",
   "metadata": {},
   "source": [
    "Expected output:\n",
    "```\n",
    "Mr. Sherlock Holmes, who was usually very late in the mornings, save upon those not infrequent occasions when he was up all night, was seated at the breakfast table. \n",
    "```"
   ]
  },
  {
   "cell_type": "markdown",
   "id": "severe-static",
   "metadata": {},
   "source": [
    "### Part II: Shift Cipher for binary input"
   ]
  },
  {
   "cell_type": "code",
   "execution_count": 4,
   "id": "corresponding-calgary",
   "metadata": {},
   "outputs": [
    {
     "name": "stdout",
     "output_type": "stream",
     "text": [
      "w�XJ}�������Jr�����VJ���J���J�������J����J����J��J���J��������VJ����J����J�����J���J����������J���������J����J��J���J��J���J�����VJ���J������J��J���J���������J�����X"
     ]
    }
   ],
   "source": [
    "!python3 ex2.py -i sherlock_short.txt -o sherlock_short.en.bin -k 42 -m e\n",
    "!cat sherlock_short.en.bin"
   ]
  },
  {
   "cell_type": "code",
   "execution_count": 5,
   "id": "fiscal-turkish",
   "metadata": {},
   "outputs": [
    {
     "name": "stdout",
     "output_type": "stream",
     "text": [
      "Mr. Sherlock Holmes, who was usually very late in the mornings, save upon those not infrequent occasions when he was up all night, was seated at the breakfast table."
     ]
    }
   ],
   "source": [
    "!python3 ex2.py -i sherlock_short.en.bin -o sherlock_short.de.txt -k 42 -m d\n",
    "!cat sherlock_short.de.txt"
   ]
  },
  {
   "cell_type": "markdown",
   "id": "measured-visitor",
   "metadata": {},
   "source": [
    "Expected output:\n",
    "```\n",
    "Mr. Sherlock Holmes, who was usually very late in the mornings, save upon those not infrequent occasions when he was up all night, was seated at the breakfast table. \n",
    "```"
   ]
  },
  {
   "cell_type": "markdown",
   "id": "weekly-browse",
   "metadata": {},
   "source": [
    "### Part III: Break Shift Cipher of ﬂag"
   ]
  },
  {
   "cell_type": "code",
   "execution_count": 6,
   "id": "united-luxury",
   "metadata": {},
   "outputs": [
    {
     "name": "stdout",
     "output_type": "stream",
     "text": [
      "./flag.sh: line 3: counter: command not found\n",
      "mkdir: cannot create directory ‘img’: File exists\n",
      "usage: ex2.py [-h] [-i FILEIN] [-o FILEOUT] [-k KEY] [-m MODE]\n",
      "ex2.py: error: argument -k: expected one argument\n",
      "identify-im6.q16: unable to open image `img/flag.png': No such file or directory @ error/blob.c/OpenBlob/2874.\n",
      "identify-im6.q16: improper image header `img/flag1.png' @ error/png.c/ReadPNGImage/4092.\n",
      "identify-im6.q16: improper image header `img/flag2.png' @ error/png.c/ReadPNGImage/4092.\n",
      "identify-im6.q16: improper image header `img/flag3.png' @ error/png.c/ReadPNGImage/4092.\n",
      "identify-im6.q16: improper image header `img/flag4.png' @ error/png.c/ReadPNGImage/4092.\n",
      "identify-im6.q16: improper image header `img/flag5.png' @ error/png.c/ReadPNGImage/4092.\n",
      "identify-im6.q16: improper image header `img/flag6.png' @ error/png.c/ReadPNGImage/4092.\n",
      "identify-im6.q16: improper image header `img/flag7.png' @ error/png.c/ReadPNGImage/4092.\n",
      "identify-im6.q16: improper image header `img/flag8.png' @ error/png.c/ReadPNGImage/4092.\n",
      "identify-im6.q16: improper image header `img/flag9.png' @ error/png.c/ReadPNGImage/4092.\n",
      "identify-im6.q16: improper image header `img/flag10.png' @ error/png.c/ReadPNGImage/4092.\n",
      "identify-im6.q16: improper image header `img/flag11.png' @ error/png.c/ReadPNGImage/4092.\n",
      "identify-im6.q16: improper image header `img/flag12.png' @ error/png.c/ReadPNGImage/4092.\n",
      "identify-im6.q16: improper image header `img/flag13.png' @ error/png.c/ReadPNGImage/4092.\n",
      "identify-im6.q16: improper image header `img/flag14.png' @ error/png.c/ReadPNGImage/4092.\n",
      "identify-im6.q16: improper image header `img/flag15.png' @ error/png.c/ReadPNGImage/4092.\n",
      "identify-im6.q16: improper image header `img/flag16.png' @ error/png.c/ReadPNGImage/4092.\n",
      "identify-im6.q16: improper image header `img/flag17.png' @ error/png.c/ReadPNGImage/4092.\n",
      "identify-im6.q16: improper image header `img/flag18.png' @ error/png.c/ReadPNGImage/4092.\n",
      "identify-im6.q16: improper image header `img/flag19.png' @ error/png.c/ReadPNGImage/4092.\n",
      "identify-im6.q16: improper image header `img/flag20.png' @ error/png.c/ReadPNGImage/4092.\n",
      "identify-im6.q16: improper image header `img/flag21.png' @ error/png.c/ReadPNGImage/4092.\n",
      "identify-im6.q16: improper image header `img/flag22.png' @ error/png.c/ReadPNGImage/4092.\n",
      "identify-im6.q16: improper image header `img/flag23.png' @ error/png.c/ReadPNGImage/4092.\n",
      "identify-im6.q16: improper image header `img/flag24.png' @ error/png.c/ReadPNGImage/4092.\n",
      "identify-im6.q16: improper image header `img/flag25.png' @ error/png.c/ReadPNGImage/4092.\n",
      "identify-im6.q16: improper image header `img/flag26.png' @ error/png.c/ReadPNGImage/4092.\n",
      "identify-im6.q16: improper image header `img/flag27.png' @ error/png.c/ReadPNGImage/4092.\n",
      "identify-im6.q16: improper image header `img/flag28.png' @ error/png.c/ReadPNGImage/4092.\n",
      "identify-im6.q16: improper image header `img/flag29.png' @ error/png.c/ReadPNGImage/4092.\n",
      "identify-im6.q16: improper image header `img/flag30.png' @ error/png.c/ReadPNGImage/4092.\n",
      "identify-im6.q16: improper image header `img/flag31.png' @ error/png.c/ReadPNGImage/4092.\n",
      "identify-im6.q16: improper image header `img/flag32.png' @ error/png.c/ReadPNGImage/4092.\n",
      "identify-im6.q16: improper image header `img/flag33.png' @ error/png.c/ReadPNGImage/4092.\n",
      "identify-im6.q16: improper image header `img/flag34.png' @ error/png.c/ReadPNGImage/4092.\n",
      "identify-im6.q16: improper image header `img/flag35.png' @ error/png.c/ReadPNGImage/4092.\n",
      "identify-im6.q16: improper image header `img/flag36.png' @ error/png.c/ReadPNGImage/4092.\n",
      "identify-im6.q16: improper image header `img/flag37.png' @ error/png.c/ReadPNGImage/4092.\n",
      "identify-im6.q16: improper image header `img/flag38.png' @ error/png.c/ReadPNGImage/4092.\n",
      "identify-im6.q16: improper image header `img/flag39.png' @ error/png.c/ReadPNGImage/4092.\n",
      "identify-im6.q16: improper image header `img/flag40.png' @ error/png.c/ReadPNGImage/4092.\n",
      "identify-im6.q16: improper image header `img/flag41.png' @ error/png.c/ReadPNGImage/4092.\n",
      "identify-im6.q16: improper image header `img/flag42.png' @ error/png.c/ReadPNGImage/4092.\n",
      "identify-im6.q16: improper image header `img/flag43.png' @ error/png.c/ReadPNGImage/4092.\n",
      "identify-im6.q16: improper image header `img/flag44.png' @ error/png.c/ReadPNGImage/4092.\n",
      "identify-im6.q16: improper image header `img/flag45.png' @ error/png.c/ReadPNGImage/4092.\n",
      "identify-im6.q16: improper image header `img/flag46.png' @ error/png.c/ReadPNGImage/4092.\n",
      "identify-im6.q16: improper image header `img/flag47.png' @ error/png.c/ReadPNGImage/4092.\n",
      "identify-im6.q16: improper image header `img/flag48.png' @ error/png.c/ReadPNGImage/4092.\n",
      "identify-im6.q16: improper image header `img/flag49.png' @ error/png.c/ReadPNGImage/4092.\n",
      "identify-im6.q16: improper image header `img/flag50.png' @ error/png.c/ReadPNGImage/4092.\n",
      "identify-im6.q16: improper image header `img/flag51.png' @ error/png.c/ReadPNGImage/4092.\n",
      "identify-im6.q16: improper image header `img/flag52.png' @ error/png.c/ReadPNGImage/4092.\n",
      "identify-im6.q16: improper image header `img/flag53.png' @ error/png.c/ReadPNGImage/4092.\n",
      "identify-im6.q16: improper image header `img/flag54.png' @ error/png.c/ReadPNGImage/4092.\n",
      "identify-im6.q16: improper image header `img/flag55.png' @ error/png.c/ReadPNGImage/4092.\n",
      "identify-im6.q16: improper image header `img/flag56.png' @ error/png.c/ReadPNGImage/4092.\n",
      "identify-im6.q16: improper image header `img/flag57.png' @ error/png.c/ReadPNGImage/4092.\n",
      "identify-im6.q16: improper image header `img/flag58.png' @ error/png.c/ReadPNGImage/4092.\n",
      "identify-im6.q16: improper image header `img/flag59.png' @ error/png.c/ReadPNGImage/4092.\n",
      "identify-im6.q16: improper image header `img/flag60.png' @ error/png.c/ReadPNGImage/4092.\n",
      "identify-im6.q16: improper image header `img/flag61.png' @ error/png.c/ReadPNGImage/4092.\n",
      "identify-im6.q16: improper image header `img/flag62.png' @ error/png.c/ReadPNGImage/4092.\n",
      "identify-im6.q16: improper image header `img/flag63.png' @ error/png.c/ReadPNGImage/4092.\n",
      "identify-im6.q16: improper image header `img/flag64.png' @ error/png.c/ReadPNGImage/4092.\n",
      "identify-im6.q16: improper image header `img/flag65.png' @ error/png.c/ReadPNGImage/4092.\n",
      "identify-im6.q16: improper image header `img/flag66.png' @ error/png.c/ReadPNGImage/4092.\n",
      "identify-im6.q16: improper image header `img/flag67.png' @ error/png.c/ReadPNGImage/4092.\n",
      "identify-im6.q16: improper image header `img/flag68.png' @ error/png.c/ReadPNGImage/4092.\n",
      "identify-im6.q16: improper image header `img/flag69.png' @ error/png.c/ReadPNGImage/4092.\n",
      "identify-im6.q16: improper image header `img/flag70.png' @ error/png.c/ReadPNGImage/4092.\n",
      "identify-im6.q16: improper image header `img/flag71.png' @ error/png.c/ReadPNGImage/4092.\n",
      "identify-im6.q16: improper image header `img/flag72.png' @ error/png.c/ReadPNGImage/4092.\n",
      "identify-im6.q16: improper image header `img/flag73.png' @ error/png.c/ReadPNGImage/4092.\n",
      "identify-im6.q16: improper image header `img/flag74.png' @ error/png.c/ReadPNGImage/4092.\n",
      "identify-im6.q16: improper image header `img/flag75.png' @ error/png.c/ReadPNGImage/4092.\n",
      "identify-im6.q16: improper image header `img/flag76.png' @ error/png.c/ReadPNGImage/4092.\n",
      "identify-im6.q16: improper image header `img/flag77.png' @ error/png.c/ReadPNGImage/4092.\n",
      "identify-im6.q16: improper image header `img/flag78.png' @ error/png.c/ReadPNGImage/4092.\n",
      "identify-im6.q16: improper image header `img/flag79.png' @ error/png.c/ReadPNGImage/4092.\n",
      "identify-im6.q16: improper image header `img/flag80.png' @ error/png.c/ReadPNGImage/4092.\n",
      "identify-im6.q16: improper image header `img/flag81.png' @ error/png.c/ReadPNGImage/4092.\n",
      "identify-im6.q16: improper image header `img/flag82.png' @ error/png.c/ReadPNGImage/4092.\n",
      "identify-im6.q16: improper image header `img/flag83.png' @ error/png.c/ReadPNGImage/4092.\n",
      "identify-im6.q16: improper image header `img/flag84.png' @ error/png.c/ReadPNGImage/4092.\n",
      "identify-im6.q16: improper image header `img/flag85.png' @ error/png.c/ReadPNGImage/4092.\n",
      "identify-im6.q16: improper image header `img/flag86.png' @ error/png.c/ReadPNGImage/4092.\n",
      "identify-im6.q16: improper image header `img/flag87.png' @ error/png.c/ReadPNGImage/4092.\n",
      "identify-im6.q16: improper image header `img/flag88.png' @ error/png.c/ReadPNGImage/4092.\n"
     ]
    },
    {
     "name": "stdout",
     "output_type": "stream",
     "text": [
      "identify-im6.q16: improper image header `img/flag89.png' @ error/png.c/ReadPNGImage/4092.\n",
      "identify-im6.q16: improper image header `img/flag90.png' @ error/png.c/ReadPNGImage/4092.\n",
      "identify-im6.q16: improper image header `img/flag91.png' @ error/png.c/ReadPNGImage/4092.\n",
      "identify-im6.q16: improper image header `img/flag92.png' @ error/png.c/ReadPNGImage/4092.\n",
      "identify-im6.q16: improper image header `img/flag93.png' @ error/png.c/ReadPNGImage/4092.\n",
      "identify-im6.q16: improper image header `img/flag94.png' @ error/png.c/ReadPNGImage/4092.\n",
      "identify-im6.q16: improper image header `img/flag95.png' @ error/png.c/ReadPNGImage/4092.\n",
      "identify-im6.q16: improper image header `img/flag96.png' @ error/png.c/ReadPNGImage/4092.\n",
      "identify-im6.q16: improper image header `img/flag97.png' @ error/png.c/ReadPNGImage/4092.\n",
      "identify-im6.q16: improper image header `img/flag98.png' @ error/png.c/ReadPNGImage/4092.\n",
      "identify-im6.q16: improper image header `img/flag99.png' @ error/png.c/ReadPNGImage/4092.\n",
      "identify-im6.q16: improper image header `img/flag100.png' @ error/png.c/ReadPNGImage/4092.\n",
      "identify-im6.q16: improper image header `img/flag101.png' @ error/png.c/ReadPNGImage/4092.\n",
      "identify-im6.q16: improper image header `img/flag102.png' @ error/png.c/ReadPNGImage/4092.\n",
      "identify-im6.q16: improper image header `img/flag103.png' @ error/png.c/ReadPNGImage/4092.\n",
      "identify-im6.q16: improper image header `img/flag104.png' @ error/png.c/ReadPNGImage/4092.\n",
      "identify-im6.q16: improper image header `img/flag105.png' @ error/png.c/ReadPNGImage/4092.\n",
      "identify-im6.q16: improper image header `img/flag106.png' @ error/png.c/ReadPNGImage/4092.\n",
      "identify-im6.q16: improper image header `img/flag107.png' @ error/png.c/ReadPNGImage/4092.\n",
      "identify-im6.q16: improper image header `img/flag108.png' @ error/png.c/ReadPNGImage/4092.\n",
      "identify-im6.q16: improper image header `img/flag109.png' @ error/png.c/ReadPNGImage/4092.\n",
      "identify-im6.q16: improper image header `img/flag110.png' @ error/png.c/ReadPNGImage/4092.\n",
      "identify-im6.q16: improper image header `img/flag111.png' @ error/png.c/ReadPNGImage/4092.\n",
      "identify-im6.q16: improper image header `img/flag112.png' @ error/png.c/ReadPNGImage/4092.\n",
      "identify-im6.q16: improper image header `img/flag113.png' @ error/png.c/ReadPNGImage/4092.\n",
      "identify-im6.q16: improper image header `img/flag114.png' @ error/png.c/ReadPNGImage/4092.\n",
      "identify-im6.q16: improper image header `img/flag115.png' @ error/png.c/ReadPNGImage/4092.\n",
      "identify-im6.q16: improper image header `img/flag116.png' @ error/png.c/ReadPNGImage/4092.\n",
      "identify-im6.q16: improper image header `img/flag117.png' @ error/png.c/ReadPNGImage/4092.\n",
      "identify-im6.q16: improper image header `img/flag118.png' @ error/png.c/ReadPNGImage/4092.\n",
      "identify-im6.q16: improper image header `img/flag119.png' @ error/png.c/ReadPNGImage/4092.\n",
      "identify-im6.q16: improper image header `img/flag120.png' @ error/png.c/ReadPNGImage/4092.\n",
      "identify-im6.q16: improper image header `img/flag121.png' @ error/png.c/ReadPNGImage/4092.\n",
      "identify-im6.q16: improper image header `img/flag122.png' @ error/png.c/ReadPNGImage/4092.\n",
      "identify-im6.q16: improper image header `img/flag123.png' @ error/png.c/ReadPNGImage/4092.\n",
      "identify-im6.q16: improper image header `img/flag124.png' @ error/png.c/ReadPNGImage/4092.\n",
      "identify-im6.q16: improper image header `img/flag125.png' @ error/png.c/ReadPNGImage/4092.\n",
      "identify-im6.q16: improper image header `img/flag126.png' @ error/png.c/ReadPNGImage/4092.\n",
      "identify-im6.q16: improper image header `img/flag127.png' @ error/png.c/ReadPNGImage/4092.\n",
      "identify-im6.q16: improper image header `img/flag128.png' @ error/png.c/ReadPNGImage/4092.\n",
      "identify-im6.q16: improper image header `img/flag129.png' @ error/png.c/ReadPNGImage/4092.\n",
      "identify-im6.q16: improper image header `img/flag130.png' @ error/png.c/ReadPNGImage/4092.\n",
      "identify-im6.q16: improper image header `img/flag131.png' @ error/png.c/ReadPNGImage/4092.\n",
      "identify-im6.q16: improper image header `img/flag132.png' @ error/png.c/ReadPNGImage/4092.\n",
      "identify-im6.q16: improper image header `img/flag133.png' @ error/png.c/ReadPNGImage/4092.\n",
      "identify-im6.q16: improper image header `img/flag134.png' @ error/png.c/ReadPNGImage/4092.\n",
      "identify-im6.q16: improper image header `img/flag135.png' @ error/png.c/ReadPNGImage/4092.\n",
      "identify-im6.q16: improper image header `img/flag136.png' @ error/png.c/ReadPNGImage/4092.\n",
      "identify-im6.q16: improper image header `img/flag137.png' @ error/png.c/ReadPNGImage/4092.\n",
      "identify-im6.q16: improper image header `img/flag138.png' @ error/png.c/ReadPNGImage/4092.\n",
      "identify-im6.q16: improper image header `img/flag139.png' @ error/png.c/ReadPNGImage/4092.\n",
      "identify-im6.q16: improper image header `img/flag140.png' @ error/png.c/ReadPNGImage/4092.\n",
      "identify-im6.q16: improper image header `img/flag141.png' @ error/png.c/ReadPNGImage/4092.\n",
      "identify-im6.q16: improper image header `img/flag142.png' @ error/png.c/ReadPNGImage/4092.\n",
      "identify-im6.q16: improper image header `img/flag143.png' @ error/png.c/ReadPNGImage/4092.\n",
      "identify-im6.q16: improper image header `img/flag144.png' @ error/png.c/ReadPNGImage/4092.\n",
      "identify-im6.q16: improper image header `img/flag145.png' @ error/png.c/ReadPNGImage/4092.\n",
      "identify-im6.q16: improper image header `img/flag146.png' @ error/png.c/ReadPNGImage/4092.\n",
      "identify-im6.q16: improper image header `img/flag147.png' @ error/png.c/ReadPNGImage/4092.\n",
      "identify-im6.q16: improper image header `img/flag148.png' @ error/png.c/ReadPNGImage/4092.\n",
      "identify-im6.q16: improper image header `img/flag149.png' @ error/png.c/ReadPNGImage/4092.\n",
      "identify-im6.q16: improper image header `img/flag150.png' @ error/png.c/ReadPNGImage/4092.\n",
      "identify-im6.q16: improper image header `img/flag151.png' @ error/png.c/ReadPNGImage/4092.\n",
      "identify-im6.q16: improper image header `img/flag152.png' @ error/png.c/ReadPNGImage/4092.\n",
      "identify-im6.q16: improper image header `img/flag153.png' @ error/png.c/ReadPNGImage/4092.\n",
      "identify-im6.q16: improper image header `img/flag154.png' @ error/png.c/ReadPNGImage/4092.\n",
      "identify-im6.q16: improper image header `img/flag155.png' @ error/png.c/ReadPNGImage/4092.\n",
      "identify-im6.q16: improper image header `img/flag156.png' @ error/png.c/ReadPNGImage/4092.\n",
      "identify-im6.q16: improper image header `img/flag157.png' @ error/png.c/ReadPNGImage/4092.\n",
      "identify-im6.q16: improper image header `img/flag158.png' @ error/png.c/ReadPNGImage/4092.\n",
      "identify-im6.q16: improper image header `img/flag159.png' @ error/png.c/ReadPNGImage/4092.\n",
      "identify-im6.q16: improper image header `img/flag160.png' @ error/png.c/ReadPNGImage/4092.\n",
      "identify-im6.q16: improper image header `img/flag161.png' @ error/png.c/ReadPNGImage/4092.\n",
      "identify-im6.q16: improper image header `img/flag162.png' @ error/png.c/ReadPNGImage/4092.\n",
      "identify-im6.q16: improper image header `img/flag163.png' @ error/png.c/ReadPNGImage/4092.\n",
      "identify-im6.q16: improper image header `img/flag164.png' @ error/png.c/ReadPNGImage/4092.\n",
      "identify-im6.q16: improper image header `img/flag165.png' @ error/png.c/ReadPNGImage/4092.\n",
      "identify-im6.q16: improper image header `img/flag166.png' @ error/png.c/ReadPNGImage/4092.\n",
      "identify-im6.q16: improper image header `img/flag167.png' @ error/png.c/ReadPNGImage/4092.\n",
      "identify-im6.q16: improper image header `img/flag168.png' @ error/png.c/ReadPNGImage/4092.\n",
      "identify-im6.q16: improper image header `img/flag169.png' @ error/png.c/ReadPNGImage/4092.\n",
      "identify-im6.q16: improper image header `img/flag170.png' @ error/png.c/ReadPNGImage/4092.\n",
      "identify-im6.q16: improper image header `img/flag171.png' @ error/png.c/ReadPNGImage/4092.\n",
      "identify-im6.q16: improper image header `img/flag172.png' @ error/png.c/ReadPNGImage/4092.\n",
      "identify-im6.q16: improper image header `img/flag173.png' @ error/png.c/ReadPNGImage/4092.\n",
      "identify-im6.q16: improper image header `img/flag174.png' @ error/png.c/ReadPNGImage/4092.\n",
      "identify-im6.q16: improper image header `img/flag175.png' @ error/png.c/ReadPNGImage/4092.\n",
      "identify-im6.q16: improper image header `img/flag176.png' @ error/png.c/ReadPNGImage/4092.\n",
      "identify-im6.q16: improper image header `img/flag177.png' @ error/png.c/ReadPNGImage/4092.\n",
      "identify-im6.q16: improper image header `img/flag178.png' @ error/png.c/ReadPNGImage/4092.\n",
      "identify-im6.q16: improper image header `img/flag179.png' @ error/png.c/ReadPNGImage/4092.\n"
     ]
    },
    {
     "name": "stdout",
     "output_type": "stream",
     "text": [
      "identify-im6.q16: improper image header `img/flag180.png' @ error/png.c/ReadPNGImage/4092.\n",
      "identify-im6.q16: improper image header `img/flag181.png' @ error/png.c/ReadPNGImage/4092.\n",
      "identify-im6.q16: improper image header `img/flag182.png' @ error/png.c/ReadPNGImage/4092.\n",
      "identify-im6.q16: improper image header `img/flag183.png' @ error/png.c/ReadPNGImage/4092.\n",
      "identify-im6.q16: improper image header `img/flag184.png' @ error/png.c/ReadPNGImage/4092.\n",
      "identify-im6.q16: improper image header `img/flag185.png' @ error/png.c/ReadPNGImage/4092.\n",
      "identify-im6.q16: improper image header `img/flag186.png' @ error/png.c/ReadPNGImage/4092.\n",
      "identify-im6.q16: improper image header `img/flag187.png' @ error/png.c/ReadPNGImage/4092.\n",
      "identify-im6.q16: improper image header `img/flag188.png' @ error/png.c/ReadPNGImage/4092.\n",
      "identify-im6.q16: improper image header `img/flag189.png' @ error/png.c/ReadPNGImage/4092.\n",
      "identify-im6.q16: improper image header `img/flag190.png' @ error/png.c/ReadPNGImage/4092.\n",
      "identify-im6.q16: improper image header `img/flag191.png' @ error/png.c/ReadPNGImage/4092.\n",
      "identify-im6.q16: improper image header `img/flag192.png' @ error/png.c/ReadPNGImage/4092.\n",
      "identify-im6.q16: improper image header `img/flag193.png' @ error/png.c/ReadPNGImage/4092.\n",
      "identify-im6.q16: improper image header `img/flag194.png' @ error/png.c/ReadPNGImage/4092.\n",
      "identify-im6.q16: improper image header `img/flag195.png' @ error/png.c/ReadPNGImage/4092.\n",
      "identify-im6.q16: improper image header `img/flag196.png' @ error/png.c/ReadPNGImage/4092.\n",
      "identify-im6.q16: improper image header `img/flag197.png' @ error/png.c/ReadPNGImage/4092.\n",
      "identify-im6.q16: improper image header `img/flag198.png' @ error/png.c/ReadPNGImage/4092.\n",
      "identify-im6.q16: improper image header `img/flag199.png' @ error/png.c/ReadPNGImage/4092.\n",
      "identify-im6.q16: improper image header `img/flag200.png' @ error/png.c/ReadPNGImage/4092.\n",
      "identify-im6.q16: improper image header `img/flag201.png' @ error/png.c/ReadPNGImage/4092.\n",
      "identify-im6.q16: improper image header `img/flag202.png' @ error/png.c/ReadPNGImage/4092.\n",
      "identify-im6.q16: improper image header `img/flag203.png' @ error/png.c/ReadPNGImage/4092.\n",
      "identify-im6.q16: improper image header `img/flag204.png' @ error/png.c/ReadPNGImage/4092.\n",
      "identify-im6.q16: improper image header `img/flag205.png' @ error/png.c/ReadPNGImage/4092.\n",
      "identify-im6.q16: improper image header `img/flag206.png' @ error/png.c/ReadPNGImage/4092.\n",
      "identify-im6.q16: improper image header `img/flag207.png' @ error/png.c/ReadPNGImage/4092.\n",
      "identify-im6.q16: improper image header `img/flag208.png' @ error/png.c/ReadPNGImage/4092.\n",
      "identify-im6.q16: improper image header `img/flag209.png' @ error/png.c/ReadPNGImage/4092.\n",
      "identify-im6.q16: improper image header `img/flag210.png' @ error/png.c/ReadPNGImage/4092.\n",
      "identify-im6.q16: improper image header `img/flag211.png' @ error/png.c/ReadPNGImage/4092.\n",
      "identify-im6.q16: improper image header `img/flag212.png' @ error/png.c/ReadPNGImage/4092.\n",
      "identify-im6.q16: improper image header `img/flag213.png' @ error/png.c/ReadPNGImage/4092.\n",
      "identify-im6.q16: improper image header `img/flag214.png' @ error/png.c/ReadPNGImage/4092.\n",
      "identify-im6.q16: improper image header `img/flag215.png' @ error/png.c/ReadPNGImage/4092.\n",
      "identify-im6.q16: improper image header `img/flag216.png' @ error/png.c/ReadPNGImage/4092.\n",
      "identify-im6.q16: improper image header `img/flag217.png' @ error/png.c/ReadPNGImage/4092.\n",
      "identify-im6.q16: improper image header `img/flag218.png' @ error/png.c/ReadPNGImage/4092.\n",
      "identify-im6.q16: improper image header `img/flag219.png' @ error/png.c/ReadPNGImage/4092.\n",
      "identify-im6.q16: improper image header `img/flag220.png' @ error/png.c/ReadPNGImage/4092.\n",
      "identify-im6.q16: improper image header `img/flag221.png' @ error/png.c/ReadPNGImage/4092.\n",
      "identify-im6.q16: improper image header `img/flag222.png' @ error/png.c/ReadPNGImage/4092.\n",
      "identify-im6.q16: improper image header `img/flag223.png' @ error/png.c/ReadPNGImage/4092.\n",
      "identify-im6.q16: improper image header `img/flag224.png' @ error/png.c/ReadPNGImage/4092.\n",
      "identify-im6.q16: improper image header `img/flag225.png' @ error/png.c/ReadPNGImage/4092.\n",
      "identify-im6.q16: improper image header `img/flag226.png' @ error/png.c/ReadPNGImage/4092.\n",
      "identify-im6.q16: improper image header `img/flag227.png' @ error/png.c/ReadPNGImage/4092.\n",
      "identify-im6.q16: improper image header `img/flag228.png' @ error/png.c/ReadPNGImage/4092.\n",
      "identify-im6.q16: improper image header `img/flag229.png' @ error/png.c/ReadPNGImage/4092.\n",
      "identify-im6.q16: improper image header `img/flag230.png' @ error/png.c/ReadPNGImage/4092.\n",
      "identify-im6.q16: improper image header `img/flag231.png' @ error/png.c/ReadPNGImage/4092.\n",
      "identify-im6.q16: improper image header `img/flag232.png' @ error/png.c/ReadPNGImage/4092.\n",
      "identify-im6.q16: improper image header `img/flag233.png' @ error/png.c/ReadPNGImage/4092.\n",
      "identify-im6.q16: improper image header `img/flag234.png' @ error/png.c/ReadPNGImage/4092.\n",
      "identify-im6.q16: improper image header `img/flag235.png' @ error/png.c/ReadPNGImage/4092.\n",
      "identify-im6.q16: improper image header `img/flag236.png' @ error/png.c/ReadPNGImage/4092.\n",
      "identify-im6.q16: improper image header `img/flag237.png' @ error/png.c/ReadPNGImage/4092.\n",
      "identify-im6.q16: improper image header `img/flag238.png' @ error/png.c/ReadPNGImage/4092.\n",
      "identify-im6.q16: improper image header `img/flag239.png' @ error/png.c/ReadPNGImage/4092.\n",
      "identify-im6.q16: improper image header `img/flag240.png' @ error/png.c/ReadPNGImage/4092.\n",
      "identify-im6.q16: improper image header `img/flag241.png' @ error/png.c/ReadPNGImage/4092.\n",
      "identify-im6.q16: improper image header `img/flag242.png' @ error/png.c/ReadPNGImage/4092.\n",
      "identify-im6.q16: improper image header `img/flag243.png' @ error/png.c/ReadPNGImage/4092.\n",
      "identify-im6.q16: improper image header `img/flag244.png' @ error/png.c/ReadPNGImage/4092.\n",
      "identify-im6.q16: improper image header `img/flag245.png' @ error/png.c/ReadPNGImage/4092.\n",
      "img/flag246.png PNG 1200x1200 1200x1200+0+0 8-bit sRGB 42280B 0.000u 0:00.000\n",
      "identify-im6.q16: improper image header `img/flag247.png' @ error/png.c/ReadPNGImage/4092.\n",
      "identify-im6.q16: improper image header `img/flag248.png' @ error/png.c/ReadPNGImage/4092.\n",
      "identify-im6.q16: improper image header `img/flag249.png' @ error/png.c/ReadPNGImage/4092.\n",
      "identify-im6.q16: improper image header `img/flag250.png' @ error/png.c/ReadPNGImage/4092.\n",
      "identify-im6.q16: improper image header `img/flag251.png' @ error/png.c/ReadPNGImage/4092.\n",
      "identify-im6.q16: improper image header `img/flag252.png' @ error/png.c/ReadPNGImage/4092.\n",
      "identify-im6.q16: improper image header `img/flag253.png' @ error/png.c/ReadPNGImage/4092.\n",
      "identify-im6.q16: improper image header `img/flag254.png' @ error/png.c/ReadPNGImage/4092.\n"
     ]
    }
   ],
   "source": [
    "# fill this in!\n",
    "!./flag.sh"
   ]
  },
  {
   "cell_type": "markdown",
   "id": "national-irrigation",
   "metadata": {},
   "source": [
    "Expected output:\n",
    "img/flag246.png PNG 1200x1200 1200x1200+0+0 8-bit sRGB 42280B 0.000u 0:00.000\n",
    "\n",
    "You'll know it's correct when you see it..."
   ]
  }
 ],
 "metadata": {
  "kernelspec": {
   "display_name": "Python 3 (ipykernel)",
   "language": "python",
   "name": "python3"
  },
  "language_info": {
   "codemirror_mode": {
    "name": "ipython",
    "version": 3
   },
   "file_extension": ".py",
   "mimetype": "text/x-python",
   "name": "python",
   "nbconvert_exporter": "python",
   "pygments_lexer": "ipython3",
   "version": "3.8.10"
  }
 },
 "nbformat": 4,
 "nbformat_minor": 5
}
